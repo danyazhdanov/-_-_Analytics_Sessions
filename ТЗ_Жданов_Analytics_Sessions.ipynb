{
 "cells": [
  {
   "cell_type": "code",
   "execution_count": 3,
   "id": "ea06ab3b",
   "metadata": {},
   "outputs": [
    {
     "name": "stdout",
     "output_type": "stream",
     "text": [
      "         date  source   medium delivery_available device_type promo_activated  \\\n",
      "0  2020-05-11  google  organic      Не определено     Десктоп              no   \n",
      "1  2020-05-11  yandex      cpc      Не определено      Мобайл             yes   \n",
      "2  2020-05-11  google      cpc      Не определено      Мобайл              no   \n",
      "\n",
      "  filter_used  pageviews  visits  productClick  addToCart  checkout  \\\n",
      "0          no       3120    1233          5240       1048       525   \n",
      "1          no       3302     544          9930       1984      1416   \n",
      "2          no       2970    1450          5460       1090       599   \n",
      "\n",
      "   transactions   revenue  \n",
      "0            90   86649.0  \n",
      "1           217  244478.0  \n",
      "2           100  105150.0  \n"
     ]
    }
   ],
   "source": [
    "import pandas as pd\n",
    "import matplotlib.pyplot as plt\n",
    "import numpy as np\n",
    "\n",
    "df = pd.read_csv(r'C:\\Program Files (x86)\\anaconda\\summer_camp_data.csv', encoding = 'cp1251')\n",
    "print(df.head(3))"
   ]
  },
  {
   "cell_type": "code",
   "execution_count": 15,
   "id": "1ddfdef0",
   "metadata": {},
   "outputs": [
    {
     "name": "stdout",
     "output_type": "stream",
     "text": [
      "Empty DataFrame\n",
      "Columns: [date, source, medium, delivery_available, device_type, promo_activated, filter_used, pageviews, visits, productClick, addToCart, checkout, transactions, revenue]\n",
      "Index: []\n"
     ]
    }
   ],
   "source": [
    "#Наличие пустых ячеек\n",
    "\n",
    "nan_df = df[df.isna().any(axis = 1)]\n",
    "print(nan_df)"
   ]
  },
  {
   "cell_type": "code",
   "execution_count": 5,
   "id": "a619e7c2",
   "metadata": {},
   "outputs": [
    {
     "name": "stdout",
     "output_type": "stream",
     "text": [
      "date - 0.0%\n",
      "source - 0.0%\n",
      "medium - 0.0%\n",
      "delivery_available - 0.0%\n",
      "device_type - 0.0%\n",
      "promo_activated - 0.0%\n",
      "filter_used - 0.0%\n",
      "pageviews - 0.0%\n",
      "visits - 0.0%\n",
      "productClick - 0.0%\n",
      "addToCart - 0.0%\n",
      "checkout - 0.0%\n",
      "transactions - 0.0%\n",
      "revenue - 0.0%\n"
     ]
    }
   ],
   "source": [
    "#Процент пустых ячеек\n",
    "\n",
    "for col in df.columns:\n",
    "    pct_missing = np.mean(df[col].isnull())\n",
    "    print('{} - {}%'.format(col, pct_missing))"
   ]
  },
  {
   "cell_type": "code",
   "execution_count": 6,
   "id": "f80098b6",
   "metadata": {},
   "outputs": [
    {
     "data": {
      "text/plain": [
       "date                   object\n",
       "source                 object\n",
       "medium                 object\n",
       "delivery_available     object\n",
       "device_type            object\n",
       "promo_activated        object\n",
       "filter_used            object\n",
       "pageviews               int64\n",
       "visits                  int64\n",
       "productClick            int64\n",
       "addToCart               int64\n",
       "checkout                int64\n",
       "transactions            int64\n",
       "revenue               float64\n",
       "dtype: object"
      ]
     },
     "execution_count": 6,
     "metadata": {},
     "output_type": "execute_result"
    }
   ],
   "source": [
    "#Типы данных\n",
    "\n",
    "df.dtypes"
   ]
  },
  {
   "cell_type": "code",
   "execution_count": 7,
   "id": "47ce97db",
   "metadata": {},
   "outputs": [],
   "source": [
    "#Убираем нулевые десятичные хвосты (.0) в коолонке revenue - меняем тип на целый\n",
    "\n",
    "df['revenue'] = df['revenue'].astype('int64')"
   ]
  },
  {
   "cell_type": "code",
   "execution_count": 8,
   "id": "fb8b07ba",
   "metadata": {},
   "outputs": [
    {
     "name": "stdout",
     "output_type": "stream",
     "text": [
      "source\n",
      "yandex    467474813\n",
      "Name: revenue, dtype: int64\n"
     ]
    }
   ],
   "source": [
    "# Задание1 \n",
    "# Канал, принесший больше всего дохода за всё время\n",
    "\n",
    "# Группируем данные по каналу(source) и выручке(revenue) \n",
    "# Сортитруем по убыванию и выводим первый результат\n",
    "# Ответ: канал - yandex, выручка - 467474813\n",
    "\n",
    "grouped = df.groupby('source').sum()['revenue'].sort_values(ascending=False).head(1)\n",
    "print(grouped)"
   ]
  },
  {
   "cell_type": "code",
   "execution_count": 12,
   "id": "c42a0f26",
   "metadata": {},
   "outputs": [
    {
     "name": "stdout",
     "output_type": "stream",
     "text": [
      "Общая выручка до ограничений с промо = 374962886\n",
      "Общее количество транзакций до ограничений с промо = 291489\n",
      "Средний чек до ограничений с промо = 1286\n",
      "\n",
      "Общая выручка после ограничений с промо = 900874303\n",
      "Общее количество транзакций после ограничений с промо = 291489\n",
      "Средний чек после ограничений с промо = 3091\n",
      "\n",
      "Изменение среднего чека после введения ограничений =  41.6 %\n"
     ]
    }
   ],
   "source": [
    "# Задание 2.0\n",
    "# Сравниваем средние чеки до и после введения ограничений в связи с коронавирусом.\n",
    "# В качестве формулы среднего чека брал: ср.чек = выручка(revenue) / кол-во транзакций(transactions)\n",
    "# Ответ: изменение чека после введения ограничений =  41.6 %\n",
    "\n",
    "#Выручка до ограничений\n",
    "df_before_covid = df[df['date'] <= '2020-03-14']\n",
    "revenue_before_covid = df_before_covid['revenue'].sum()\n",
    "print(\"Общая выручка до ограничений с промо =\", revenue_before_covid)\n",
    "\n",
    "#Транзакции до ограничений\n",
    "trans_before_covid = df_before_covid['transactions'].sum()\n",
    "print(\"Общее количество транзакций до ограничений с промо =\", trans_before_covid)\n",
    "\n",
    "#Средний чек до ограничений\n",
    "check_before = round(revenue_before_covid / trans_before_covid)\n",
    "print(\"Средний чек до ограничений с промо =\", check_before)\n",
    "print()\n",
    "\n",
    "\n",
    "#Выручка после ограничений\n",
    "df_after_covid = df[df['date'] > '2020-03-14']\n",
    "revenue_after_covid = df_after_covid['revenue'].sum()\n",
    "print(\"Общая выручка после ограничений с промо =\", revenue_after_covid)\n",
    "\n",
    "#Транзакции после ограничений\n",
    "trans_after_covid = df_before_covid['transactions'].sum()\n",
    "print(\"Общее количество транзакций после ограничений с промо =\", trans_after_covid)\n",
    "\n",
    "#Средний чек после ограничений\n",
    "check_after = round(revenue_after_covid / trans_after_covid)\n",
    "print(\"Средний чек после ограничений с промо =\", check_after)\n",
    "print()\n",
    "\n",
    "#Изменение среднегоо чека после ограничений\n",
    "check_change = round(check_before / check_after, 4) * 100\n",
    "print('Изменение среднего чека после введения ограничений = ', check_change, '%')\n"
   ]
  },
  {
   "cell_type": "code",
   "execution_count": 13,
   "id": "ae3a40d0",
   "metadata": {},
   "outputs": [
    {
     "name": "stdout",
     "output_type": "stream",
     "text": [
      "Общая выручка до ограничений с промо = 182296244\n",
      "Общее количество транзакций до ограничений с промо = 141463\n",
      "Средний чек до ограничений с промо = 1289\n",
      "\n",
      "Общая выручка после ограничений с промо = 480738521\n",
      "Общее количество транзакций после ограничений с промо = 141463\n",
      "Средний чек после ограничений с промо = 3398\n",
      "\n",
      "Изменение среднего чека после введения ограничений с промо =  37.93 %\n"
     ]
    }
   ],
   "source": [
    "# Задание 2.1\n",
    "# Для пользователей с промокодом\n",
    "# Ответ: изменение чека после введения ограничений с промо =  37.93 %\n",
    "\n",
    "#Выручка до ограничений с промо\n",
    "df_before_covid_promo = df[(df['date'] <= '2020-03-14') & (df['promo_activated'] == 'yes')]\n",
    "revenue_before_covid_promo = df_before_covid_promo['revenue'].sum()\n",
    "print(\"Общая выручка до ограничений с промо =\", revenue_before_covid_promo)\n",
    "\n",
    "#Транзакции до ограничений с промо\n",
    "trans_before_covid_promo = df_before_covid_promo['transactions'].sum()\n",
    "print(\"Общее количество транзакций до ограничений с промо =\", trans_before_covid_promo)\n",
    "\n",
    "#Средний чек до ограничений с промо\n",
    "check_before_promo = round(revenue_before_covid_promo / trans_before_covid_promo)\n",
    "print(\"Средний чек до ограничений с промо =\", check_before_promo)\n",
    "print()\n",
    "\n",
    "\n",
    "#Выручка после ограничений с промо\n",
    "df_after_covid_promo = df[(df['date'] > '2020-03-14') & (df['promo_activated'] == 'yes')]\n",
    "revenue_after_covid_promo = df_after_covid_promo['revenue'].sum()\n",
    "print(\"Общая выручка после ограничений с промо =\", revenue_after_covid_promo)\n",
    "\n",
    "#Транзакции после ограничений с промо\n",
    "trans_after_covid_promo = df_before_covid_promo['transactions'].sum()\n",
    "print(\"Общее количество транзакций после ограничений с промо =\", trans_after_covid_promo)\n",
    "\n",
    "#Средний чек после ограничений с промо\n",
    "check__after_promo = round(revenue_after_covid_promo / trans_after_covid_promo)\n",
    "print(\"Средний чек после ограничений с промо =\", check__after_promo)\n",
    "print()\n",
    "\n",
    "#Изменение среднего чека после ограничений с промо\n",
    "check_change_promo = round(check_before_promo / check__after_promo, 4) * 100\n",
    "print('Изменение среднего чека после введения ограничений с промо = ', check_change_promo, '%')"
   ]
  },
  {
   "cell_type": "code",
   "execution_count": 14,
   "id": "086afbde",
   "metadata": {},
   "outputs": [
    {
     "name": "stdout",
     "output_type": "stream",
     "text": [
      "Общая выручка до ограничений без промо = 192666642\n",
      "Общее количество транзакций до ограничений без промо = 150026\n",
      "Средний чек до ограничений без промо = 1284\n",
      "\n",
      "Общая выручка после ограничений без промо = 480738521\n",
      "Общее количество транзакций после ограничений без промо = 150026\n",
      "Средний чек после ограничений без промо = 3204\n",
      "\n",
      "Изменение среднего чека после введения ограничений без промо =  40.07 %\n"
     ]
    }
   ],
   "source": [
    "# Задание 2.2\n",
    "# Для пользователей без промокода \n",
    "# Ответ: изменение чека после введения ограничений без промо =  40.07 %\n",
    "\n",
    "#Выручка до ограничений без промо\n",
    "df_before_covid_no_promo = df[(df['date'] <= '2020-03-14') & (df['promo_activated'] == 'no')]\n",
    "revenue_before_covid_no_promo = df_before_covid_no_promo['revenue'].sum()\n",
    "print(\"Общая выручка до ограничений без промо =\", revenue_before_covid_no_promo)\n",
    "\n",
    "#Транзакции до ограничений без промо\n",
    "trans_before_covid_no_promo = df_before_covid_no_promo['transactions'].sum()\n",
    "print(\"Общее количество транзакций до ограничений без промо =\", trans_before_covid_no_promo)\n",
    "\n",
    "#Средний чек до ограничений без промо\n",
    "check_before_no_promo = round(revenue_before_covid_no_promo / trans_before_covid_no_promo)\n",
    "print(\"Средний чек до ограничений без промо =\", check_before_no_promo)\n",
    "print()\n",
    "\n",
    "\n",
    "#Выручка после ограничений без промо\n",
    "df_after_covid_no_promo = df[(df['date'] > '2020-03-14') & (df['promo_activated'] == 'yes')]\n",
    "revenue_after_covid_no_promo = df_after_covid_no_promo['revenue'].sum()\n",
    "print(\"Общая выручка после ограничений без промо =\", revenue_after_covid_no_promo)\n",
    "\n",
    "#Выручка после ограничений без промо\n",
    "trans_after_covid_no_promo = df_before_covid_no_promo['transactions'].sum()\n",
    "print(\"Общее количество транзакций после ограничений без промо =\", trans_after_covid_no_promo)\n",
    "\n",
    "#Выручка после ограничений без промо\n",
    "check__after_no_promo = round(revenue_after_covid_no_promo / trans_after_covid_no_promo)\n",
    "print(\"Средний чек после ограничений без промо =\", check__after_no_promo)\n",
    "print()\n",
    "\n",
    "#Изменение среднегоо чека после ограничений без промо\n",
    "check_change_no_promo = round(check_before_no_promo / check__after_no_promo, 4) * 100\n",
    "print('Изменение среднего чека после введения ограничений без промо = ', check_change_no_promo, '%')"
   ]
  },
  {
   "cell_type": "code",
   "execution_count": 16,
   "id": "3ed917b7",
   "metadata": {},
   "outputs": [
    {
     "name": "stdout",
     "output_type": "stream",
     "text": [
      "Коэффициент конверсии в транзакцию в буднии дни = 15.18 %\n",
      "\n",
      "Коэффициент конверсии в транзакцию в выходные = 17.09 %\n",
      "\n",
      "Т-тест:            t-значение = -6.49628  p-значение = 8.36521e-11\n"
     ]
    },
    {
     "data": {
      "text/html": [
       "<div>\n",
       "<style scoped>\n",
       "    .dataframe tbody tr th:only-of-type {\n",
       "        vertical-align: middle;\n",
       "    }\n",
       "\n",
       "    .dataframe tbody tr th {\n",
       "        vertical-align: top;\n",
       "    }\n",
       "\n",
       "    .dataframe thead th {\n",
       "        text-align: right;\n",
       "    }\n",
       "</style>\n",
       "<table border=\"1\" class=\"dataframe\">\n",
       "  <thead>\n",
       "    <tr style=\"text-align: right;\">\n",
       "      <th></th>\n",
       "      <th>T</th>\n",
       "      <th>dof</th>\n",
       "      <th>alternative</th>\n",
       "      <th>p-val</th>\n",
       "      <th>CI95%</th>\n",
       "      <th>cohen-d</th>\n",
       "      <th>BF10</th>\n",
       "      <th>power</th>\n",
       "    </tr>\n",
       "  </thead>\n",
       "  <tbody>\n",
       "    <tr>\n",
       "      <th>T-test</th>\n",
       "      <td>-6.496279</td>\n",
       "      <td>29249.973106</td>\n",
       "      <td>two-sided</td>\n",
       "      <td>8.365213e-11</td>\n",
       "      <td>[-3.1, -1.66]</td>\n",
       "      <td>0.06183</td>\n",
       "      <td>1.549e+07</td>\n",
       "      <td>1.0</td>\n",
       "    </tr>\n",
       "  </tbody>\n",
       "</table>\n",
       "</div>"
      ],
      "text/plain": [
       "               T           dof alternative         p-val          CI95%  \\\n",
       "T-test -6.496279  29249.973106   two-sided  8.365213e-11  [-3.1, -1.66]   \n",
       "\n",
       "        cohen-d       BF10  power  \n",
       "T-test  0.06183  1.549e+07    1.0  "
      ]
     },
     "execution_count": 16,
     "metadata": {},
     "output_type": "execute_result"
    }
   ],
   "source": [
    "# Задание3\n",
    "# Расчитывал CR (коэффициент конверсии в транзакцию) по формуле: \n",
    "# CR = Число транзакций (transactions) / Общее число пользователей(visits) \n",
    "# Подразумеваю, что 'visits' - это пользователи, а 'pageviews' - просмотры страницы, их может быть несколько на одного пользователя\n",
    "\n",
    "# Стоит рассчитать суммы транзакций и общее число пользователей по будням и выходным дням \n",
    "# Добавили колонку с днем недели ('day_of_week') и дневным CR ('CR_daily')\n",
    "df['date'] = pd.to_datetime(df['date'])\n",
    "df['day_of_week'] = df['date'].dt.day_name()\n",
    "df['CR_daily'] = (df['transactions'] / df['visits']) * 100\n",
    "\n",
    "\n",
    "# Для будних дней(weekdays):\n",
    "df_weekdays = df[df['day_of_week'].isin(['Monday', 'Tuesday', 'Wednesday', 'Thursday', 'Friday'])]\n",
    "\n",
    "# Число транзакции в буднии дни\n",
    "trans_weekdays = df_weekdays['transactions'].sum()\n",
    "\n",
    "# Число пользователей(посетителей) в буднии дни\n",
    "visitors_weekdays = df_weekdays['visits'].sum()\n",
    "\n",
    "# Коэффициент конверсии в транзакцию в буднии дни\n",
    "CR_weekdays = round(trans_weekdays / visitors_weekdays, 4) * 100\n",
    "print('Коэффициент конверсии в транзакцию в буднии дни =', CR_weekdays, '%')\n",
    "print()\n",
    "\n",
    "\n",
    "# Для выходных(weekends):\n",
    "df_weekends = df[df['day_of_week'].isin(['Sunday', 'Saturday'])]\n",
    "\n",
    "# Число транзакции в выходные\n",
    "trans_weekends = df_weekends['transactions'].sum()\n",
    "\n",
    "# Число пользователей(посетителей) в выходные\n",
    "visitors_weekends = df_weekends['visits'].sum()\n",
    "\n",
    "# Коэффициент конверсии в транзакцию в выходные\n",
    "CR_weekends = round(trans_weekends / visitors_weekends, 4) * 100\n",
    "print('Коэффициент конверсии в транзакцию в выходные =', CR_weekends, '%')\n",
    "print()\n",
    "\n",
    "\n",
    "# Находим t-value, p-value для дневных CR-значений будних и выходных\n",
    "# Учитываем разное количество результатов в выборках \n",
    "from scipy.stats import ttest_ind\n",
    "import pingouin as pt\n",
    "\n",
    "a = df_weekdays['CR_daily']\n",
    "b = df_weekends['CR_daily']\n",
    "t, p = ttest_ind(a, b, equal_var=False)\n",
    "print(\"Т-тест:            t-значение = %g  p-значение = %g\" % (t, p))\n",
    "\n",
    "pt.ttest(a, b, paired=False)"
   ]
  },
  {
   "cell_type": "code",
   "execution_count": null,
   "id": "b767071d",
   "metadata": {},
   "outputs": [],
   "source": [
    "# Ответ на Задание3: значение p = 8.36521e-11 - достаточно мало, мы нашли статистически значимые различия в CR будних и выходных\n",
    "# Мы можем сказать, что с уверенностью в 95%, CR (коэффициент конверсии в транзакцию) в выходные дни отличается от CR в будние дни"
   ]
  },
  {
   "cell_type": "code",
   "execution_count": 63,
   "id": "d7444f0f",
   "metadata": {},
   "outputs": [
    {
     "data": {
      "image/png": "[encoded data removed]",
      "text/plain": [
       "<Figure size 432x288 with 1 Axes>"
      ]
     },
     "metadata": {
      "needs_background": "light"
     },
     "output_type": "display_data"
    }
   ],
   "source": [
    "# Задание 4 \n",
    "# Cпрогнозировать объем дохода, полученного с пользователей, \n",
    "# приведенных на сайт контекстной рекламой (medium = cpc) на полгода вперед\n",
    "\n",
    "\n",
    "# Строим распределение значений выручки от контекстной рекламы по дням \n",
    "\n",
    "from sklearn.linear_model import LinearRegression\n",
    "from scipy import stats\n",
    "from matplotlib.pyplot import *\n",
    "import datetime as dt\n",
    "import pandas_datareader as pdr\n",
    "\n",
    "df['revenue'] = df['revenue'].astype('int64')\n",
    "df_cpc = df[df['medium'].isin(['cpc'])]\n",
    "df_cpc.dtypes\n",
    "\n",
    "df_cpc_grouped = df_cpc.groupby('date').sum() \n",
    "df_cpc_grouped = df_cpc_grouped.reset_index()\n",
    "df_cpc_grouped[\"date\"]\n",
    "df_cpc_grouped['revenue'] = pd.to_numeric(df_cpc_grouped['revenue'], errors='coerce')\n",
    "\n",
    "\n",
    "\n",
    "plt.scatter(df_cpc_grouped['date'], df_cpc_grouped['revenue'])\n",
    "plt.xlabel('Дата')\n",
    "plt.ylabel('Выручка контекстной рекламы')\n",
    "plt.plot(df_cpc_grouped['date'], df_cpc_grouped['revenue'])\n",
    "\n",
    "plt.show()\n",
    "\n",
    "\n",
    "\n",
    "\n",
    "\n"
   ]
  },
  {
   "cell_type": "code",
   "execution_count": 74,
   "id": "1ce31c98",
   "metadata": {},
   "outputs": [
    {
     "name": "stdout",
     "output_type": "stream",
     "text": [
      "коэффициент наклона \"к\"= [-3642.10255059]\n",
      "значение пересечения \"b\"= 2687899386.566313\n",
      "значение последней даты + полгода \"x\"= 737878\n",
      "значение последней даты \"x\"= 737698\n",
      "Ожидаемая выручка через пол года = [472040.74346876]\n"
     ]
    }
   ],
   "source": [
    "# Получаем уравнение линейной регрессии и поодставляем значение даты(x) + полгода\n",
    "\n",
    "df['revenue'] = df['revenue'].astype('int64')\n",
    "df_cpc = df[df['medium'].isin(['cpc'])]\n",
    "df_cpc.dtypes\n",
    "\n",
    "df_cpc_grouped = df_cpc.groupby('date').sum() \n",
    "df_cpc_grouped = df_cpc_grouped.reset_index()\n",
    "df_cpc_grouped[\"date\"]\n",
    "df_cpc_grouped['revenue'] = pd.to_numeric(df_cpc_grouped['revenue'], errors='coerce')\n",
    "\n",
    "df_cpc_grouped['date'] = pd.to_datetime(df_cpc_grouped['date'])\n",
    "df_cpc_grouped['date']= df_cpc_grouped['date'].map(dt.datetime.toordinal)\n",
    "reg = LinearRegression()\n",
    "reg.fit(df_cpc_grouped[['date']], df_cpc_grouped['revenue'])\n",
    "\n",
    "\n",
    "# Уравнение линии регрессии\n",
    "# y = k * x + b\n",
    "\n",
    "print('коэффициент наклона \"к\"=', reg.coef_)\n",
    "print('значение пересечения \"b\"=', reg.intercept_)\n",
    "print('значение последней даты + полгода \"x\"=', df_cpc_grouped['date'].max() + 180)\n",
    "print('значение последней даты \"x\"=', df_cpc_grouped['date'].max())\n",
    "y = reg.coef_ * (df_cpc_grouped['date'].max() + 180) + reg.intercept_\n",
    "print('Ожидаемая выручка через пол года =', y)\n"
   ]
  },
  {
   "cell_type": "code",
   "execution_count": null,
   "id": "d45776cf",
   "metadata": {},
   "outputs": [],
   "source": [
    "# Ответ: При расчете прогноза через линейную регрессию \n",
    "# ожидаемая выручка через пол года = [472040.74346876]"
   ]
  },
  {
   "cell_type": "code",
   "execution_count": null,
   "id": "87251933",
   "metadata": {},
   "outputs": [],
   "source": []
  }
 ],
 "metadata": {
  "kernelspec": {
   "display_name": "Python 3 (ipykernel)",
   "language": "python",
   "name": "python3"
  },
  "language_info": {
   "codemirror_mode": {
    "name": "ipython",
    "version": 3
   },
   "file_extension": ".py",
   "mimetype": "text/x-python",
   "name": "python",
   "nbconvert_exporter": "python",
   "pygments_lexer": "ipython3",
   "version": "3.9.7"
  }
 },
 "nbformat": 4,
 "nbformat_minor": 5
}
