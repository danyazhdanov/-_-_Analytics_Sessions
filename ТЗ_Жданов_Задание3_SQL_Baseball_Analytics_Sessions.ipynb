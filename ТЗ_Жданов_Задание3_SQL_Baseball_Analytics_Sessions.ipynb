

select 
  distinct main.pitcherFirstName, 
  main.pitcherLastName, 
  data.awayTeamName as TeamName
from
(
with cte1 as                     # cte1 - таблица, соотносящая Питчер-id и команду
      (
      SELECT 
        t.pitcherId, 
        t.awayTeamName
      FROM
        (
          SELECT  
            d1.pitcherId,
            d1.awayTeamName,
            row_number() over (partition by d1.pitcherId order by d1.awayTeamName desc) as rn
          FROM `bigquery-public-data.baseball.games_wide` d1
          LEFT JOIN  `bigquery-public-data.baseball.games_post_wide` d2
          ON d1.pitcherId = d2.pitcherId
        ) t
      where rn = 1
      group by 
        t.pitcherId, 
        t.awayTeamName
      order by 
        t.awayTeamName, 
        t.pitcherId ASC
      ),
    cte2 as                    # cte2 - таблица, с Питчер-id и самой большой скоростью (результатом)
    (
          SELECT  
            max(d3.pitchSpeed) as maxspeed, 
            d3.pitcherId  
          FROM `bigquery-public-data.baseball.games_wide` d3
          LEFT JOIN  `bigquery-public-data.baseball.games_post_wide` d4
          ON d3.pitcherId = d4.pitcherId
          GROUP BY d3.pitcherId
    )
SELECT                          # Объединяем питчер- id, команду, самую большую скорость и сортируем по одному на команду
  cte1.pitcherId, 
  cte1.awayTeamName,
  row_number() over (partition by cte1.awayTeamName order by cte2.maxspeed desc) as rn
FROM
  cte1
JOIN
  cte2 ON
  cte1.pitcherId = cte2.pitcherId

) as data
join `bigquery-public-data.baseball.games_wide` as main
on data.pitcherId = main.pitcherId
where data.rn = 1
order by TeamName
